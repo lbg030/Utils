{
 "cells": [
  {
   "cell_type": "code",
   "execution_count": 12,
   "metadata": {},
   "outputs": [
    {
     "name": "stdout",
     "output_type": "stream",
     "text": [
      "{'sc', 'mn', 'embo', 'bond', 'ul', 'bcd'}\n"
     ]
    }
   ],
   "source": [
    "import json\n",
    "from pathlib import Path\n",
    "import os\n",
    "\n",
    "base_path = \"/Users/gwonsmpro/Downloads/pillipse/real_class_merged_data_6class\"\n",
    "folder_list = sorted(os.listdir(base_path))\n",
    "\n",
    "lst = []\n",
    "for folder in folder_list:\n",
    "    folder_path = base_path + \"/\" + folder\n",
    "    json_list = Path(folder_path).glob(\"*.json\")\n",
    "    # JSON 파일 로드\n",
    "    for json_file in json_list:\n",
    "        with open(f'{str(json_file)}', 'r') as f:\n",
    "            data = json.load(f)\n",
    "\n",
    "        for shape in data['shapes']:\n",
    "            if shape['label'] == 'bmn':\n",
    "                shape['label'] = 'mn'\n",
    "            elif shape['label'] == 'btd':\n",
    "                shape['label'] = 'bb'\n",
    "            elif shape['label'] == 'sn':\n",
    "                shape['label'] = 'mn'\n",
    "            elif shape['label'] == 'mdb':\n",
    "                shape['label'] = 'sc'\n",
    "            elif shape['label'] == 'tb':\n",
    "                shape['label'] = 'sc'\n",
    "            elif shape['label'] == 'zh':\n",
    "                shape['label'] = 'sc'\n",
    "            elif shape['label'] == 'sc2':\n",
    "                shape['label'] = 'sc'\n",
    "            elif shape['label'] == 'sc3':\n",
    "                shape['label'] = 'sc'\n",
    "\n",
    "            elif shape['label'] == 'embox' :\n",
    "                shape['label'] = 'embo'\n",
    "            \n",
    "            if shape['label'] == 'bb':\n",
    "                print(data)\n",
    "            else:\n",
    "                lst.append(shape['label'])\n",
    "        # 결과를 새 JSON 파일에 저장\n",
    "        with open(f'{str(json_file)}', 'w') as f:\n",
    "            json.dump(data, f, indent=4)\n",
    "\n",
    "print(set(lst))\n"
   ]
  },
  {
   "cell_type": "code",
   "execution_count": 2,
   "metadata": {},
   "outputs": [
    {
     "data": {
      "text/plain": [
       "True"
      ]
     },
     "execution_count": 2,
     "metadata": {},
     "output_type": "execute_result"
    }
   ],
   "source": [
    "import cv2\n",
    "import numpy as np\n",
    "\n",
    "def adjust_color_channels(image_path):\n",
    "    # 이미지를 불러옵니다.\n",
    "    image = cv2.imread(image_path)\n",
    "    \n",
    "    # B, G, R 채널로 분리합니다.\n",
    "    b, g, r = cv2.split(image)\n",
    "\n",
    "    # 빨간색 채널의 값을 증가시킵니다.\n",
    "    r = r * 1.5  # adjust this value to get the desired effect\n",
    "    r = np.clip(r, 0, 255)  # ensure the values are within the valid range\n",
    "\n",
    "    # 채널을 다시 합칩니다.\n",
    "    adjusted_image = cv2.merge((b, g, r.astype('uint8')))\n",
    "\n",
    "    return adjusted_image\n",
    "\n",
    "# Use the function\n",
    "adjusted_image = adjust_color_channels('/Users/gwonsmpro/Documents/GitHub/Utils/zh_0.png')\n",
    "\n",
    "# Save the adjusted image\n",
    "cv2.imwrite('/Users/gwonsmpro/Documents/GitHub/Utils/adjusted_image.png', adjusted_image)\n"
   ]
  },
  {
   "cell_type": "code",
   "execution_count": 2,
   "metadata": {},
   "outputs": [
    {
     "data": {
      "text/plain": [
       "array([[[False, False, False],\n",
       "        [False, False, False],\n",
       "        [False, False, False],\n",
       "        ...,\n",
       "        [False, False, False],\n",
       "        [False, False, False],\n",
       "        [False, False, False]],\n",
       "\n",
       "       [[False, False, False],\n",
       "        [False, False, False],\n",
       "        [ True,  True,  True],\n",
       "        ...,\n",
       "        [False, False, False],\n",
       "        [False, False, False],\n",
       "        [False, False, False]],\n",
       "\n",
       "       [[False, False, False],\n",
       "        [ True,  True,  True],\n",
       "        [False, False, False],\n",
       "        ...,\n",
       "        [False, False, False],\n",
       "        [ True,  True,  True],\n",
       "        [ True,  True,  True]],\n",
       "\n",
       "       ...,\n",
       "\n",
       "       [[False, False, False],\n",
       "        [False, False, False],\n",
       "        [False, False, False],\n",
       "        ...,\n",
       "        [False, False, False],\n",
       "        [False, False, False],\n",
       "        [False, False, False]],\n",
       "\n",
       "       [[False, False, False],\n",
       "        [False, False, False],\n",
       "        [False, False, False],\n",
       "        ...,\n",
       "        [False, False, False],\n",
       "        [False, False, False],\n",
       "        [False, False, False]],\n",
       "\n",
       "       [[False, False, False],\n",
       "        [False, False, False],\n",
       "        [False, False, False],\n",
       "        ...,\n",
       "        [False, False, False],\n",
       "        [False, False, False],\n",
       "        [False, False, False]]])"
      ]
     },
     "execution_count": 2,
     "metadata": {},
     "output_type": "execute_result"
    }
   ],
   "source": [
    "blurred_image == cv2.imread('/Users/gwonsmpro/Documents/GitHub/Utils/zh_0.png')"
   ]
  }
 ],
 "metadata": {
  "kernelspec": {
   "display_name": "base",
   "language": "python",
   "name": "python3"
  },
  "language_info": {
   "codemirror_mode": {
    "name": "ipython",
    "version": 3
   },
   "file_extension": ".py",
   "mimetype": "text/x-python",
   "name": "python",
   "nbconvert_exporter": "python",
   "pygments_lexer": "ipython3",
   "version": "3.9.16"
  },
  "orig_nbformat": 4
 },
 "nbformat": 4,
 "nbformat_minor": 2
}
