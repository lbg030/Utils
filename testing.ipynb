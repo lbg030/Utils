{
 "cells": [
  {
   "cell_type": "code",
   "execution_count": 7,
   "metadata": {},
   "outputs": [
    {
     "name": "stdout",
     "output_type": "stream",
     "text": [
      "4\n",
      "defaultdict(<class 'int'>, {'hz': 0, 'bz': 1, 'chem': 2, 'yd': 3})\n"
     ]
    }
   ],
   "source": [
    "from collections import defaultdict\n",
    "\n",
    "defect_types = ['hz', 'bz', 'chem', 'yd','hz']\n",
    "num_classes = len(defect_types)\n",
    "defect_dict = defaultdict(int)\n",
    "\n",
    "for label in defect_types:\n",
    "    if label not in defect_dict:\n",
    "        defect_dict[label] = len(defect_dict)\n",
    "\n",
    "print(len(defect_dict))\n",
    "print(defect_dict)"
   ]
  },
  {
   "cell_type": "code",
   "execution_count": 12,
   "metadata": {},
   "outputs": [
    {
     "name": "stdout",
     "output_type": "stream",
     "text": [
      "[10, 36, 47, 132, 53, 255, 387, 454, 333, 407, 721, 873, 767, 707, 726, 976, 1405, 1710, 1325, 1832]\n"
     ]
    }
   ],
   "source": [
    "number = 5\n",
    "\n",
    "from random import randint\n",
    "lst = [0, 148, 575, 884,2595]\n",
    "label_list = []\n",
    "for i in range(len(lst)-1):\n",
    "    for _ in range(number):\n",
    "        label_list.append(randint(lst[i],lst[i+1]))\n",
    "        \n",
    "print(label_list)"
   ]
  },
  {
   "cell_type": "code",
   "execution_count": 13,
   "metadata": {},
   "outputs": [
    {
     "name": "stdout",
     "output_type": "stream",
     "text": [
      "20\n"
     ]
    }
   ],
   "source": [
    "print(len(label_list))"
   ]
  },
  {
   "cell_type": "code",
   "execution_count": null,
   "metadata": {},
   "outputs": [],
   "source": []
  }
 ],
 "metadata": {
  "kernelspec": {
   "display_name": "Python 3.9.13 ('base')",
   "language": "python",
   "name": "python3"
  },
  "language_info": {
   "codemirror_mode": {
    "name": "ipython",
    "version": 3
   },
   "file_extension": ".py",
   "mimetype": "text/x-python",
   "name": "python",
   "nbconvert_exporter": "python",
   "pygments_lexer": "ipython3",
   "version": "3.9.13"
  },
  "orig_nbformat": 4,
  "vscode": {
   "interpreter": {
    "hash": "39523b5506b09c1341afcde84115bb5b8a9de94ca361b7e653f8ee467cc4d43c"
   }
  }
 },
 "nbformat": 4,
 "nbformat_minor": 2
}
