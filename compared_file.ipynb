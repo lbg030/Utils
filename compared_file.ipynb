{
 "cells": [
  {
   "cell_type": "code",
   "execution_count": 9,
   "metadata": {},
   "outputs": [
    {
     "name": "stdout",
     "output_type": "stream",
     "text": [
      "[9, 4, 3, 8, 1, 0, 2, 5, 7, 6]\n"
     ]
    }
   ],
   "source": [
    "from torch.utils.data.sampler import SubsetRandomSampler\n",
    "\n",
    "lst = [i for i in range(10)]\n",
    "lst = SubsetRandomSampler(lst)\n",
    "\n",
    "print(list(lst))"
   ]
  },
  {
   "cell_type": "code",
   "execution_count": 10,
   "metadata": {},
   "outputs": [],
   "source": [
    "lst = [0.0312, 0.0299, 0.0312, 0.0312, 0.0312, 0.0295, 0.0301, 0.0312, 0.0296,\n",
    "        0.0296, 0.0300, 0.0313, 0.0313, 0.0314, 0.0299, 0.0314]"
   ]
  },
  {
   "cell_type": "code",
   "execution_count": 11,
   "metadata": {},
   "outputs": [],
   "source": [
    "lst2 = ['/home/lbg030/luna/data/custom_data/hz/train/220323-AT6T31EH-S010_inpaint_2 ADR_W1.4_H1.1_BS.jpg', '/home/lbg030/luna/data/custom_data/yd/train/220204-AT6T31EH-R450_inpaint_1 ADR_W4.4_H4.0_FS.jpg', '/home/lbg030/luna/data/custom_data/yd/train/220104-AT6T50EF-R404_inpaint_1 ADR_W3.2_H3.4_FS.jpg', '/home/lbg030/luna/data/custom_data/hz/train/220316-AT6T31HW-M243_inpaint_1 ADR_W2.4_H2.2_FS.jpg', '/home/lbg030/luna/data/custom_data/hz/train/220407-AT6T35EA-S016_inpaint_1 ADR_W1.7_H1.4_BS.jpg', '/home/lbg030/luna/data/custom_data/hz/train/220208-AT6T35EA-M202_inpaint_2 ADR_W1.5_H1.1_BS.jpg', '/home/lbg030/luna/data/custom_data/chem/train/220210-AT6T35EA-S006_inpaint_2 ADR_W3.1_H2.7_FS.jpg', '/home/lbg030/luna/data/custom_data/hz/train/220217-AT6T31EH-F120_inpaint_1 ADR_W2.1_H1.5_BS.jpg'], ['/home/lbg030/luna/data/custom_data/hz/train/220329-AT6T31HW-S024_inpaint_1 ADR_W2.2_H2.2_FS.jpg', '/home/lbg030/luna/data/custom_data/hz/train/220323-AT6T31EH-S031_inpaint_1 ADR_W1.9_H1.6_FS.jpg', '/home/lbg030/luna/data/custom_data/bz/train/220224-AT6T35EA-M211_inpaint_1 ADR_W1.0_H1.5_BS.jpg', '/home/lbg030/luna/data/custom_data/yd/train/220205-AT6T35EA-M235_inpaint_2 ADR_W3.1_H2.6_BS.jpg', '/home/lbg030/luna/data/custom_data/yd/train/220205-AT6T35EA-M235_inpaint_3 ADR_W2.2_H2.0_FS.jpg', '/home/lbg030/luna/data/custom_data/hz/train/220311-AT6T35EA-S014_inpaint_1 ADR_W1.2_H1.1_FS.jpg', '/home/lbg030/luna/data/custom_data/hz/train/220425-AT6T35EA-S025_inpaint_1 ADR_W1.7_H1.5_FS.jpg', '/home/lbg030/luna/data/custom_data/hz/train/220312-AT6T35EA-S028_inpaint_1 ADR_W1.8_H1.7_FS.jpg']"
   ]
  },
  {
   "cell_type": "code",
   "execution_count": 13,
   "metadata": {},
   "outputs": [
    {
     "name": "stdout",
     "output_type": "stream",
     "text": [
      "16\n",
      "8\n"
     ]
    }
   ],
   "source": [
    "print(len(lst))\n",
    "print(len(lst2[0]))"
   ]
  },
  {
   "cell_type": "code",
   "execution_count": null,
   "metadata": {},
   "outputs": [],
   "source": []
  }
 ],
 "metadata": {
  "kernelspec": {
   "display_name": "Python 3.9.13 ('base')",
   "language": "python",
   "name": "python3"
  },
  "language_info": {
   "codemirror_mode": {
    "name": "ipython",
    "version": 3
   },
   "file_extension": ".py",
   "mimetype": "text/x-python",
   "name": "python",
   "nbconvert_exporter": "python",
   "pygments_lexer": "ipython3",
   "version": "3.9.13"
  },
  "orig_nbformat": 4,
  "vscode": {
   "interpreter": {
    "hash": "39523b5506b09c1341afcde84115bb5b8a9de94ca361b7e653f8ee467cc4d43c"
   }
  }
 },
 "nbformat": 4,
 "nbformat_minor": 2
}
