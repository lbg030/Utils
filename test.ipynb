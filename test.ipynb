{
 "cells": [
  {
   "cell_type": "code",
   "execution_count": 1,
   "metadata": {},
   "outputs": [],
   "source": [
    "import json\n",
    "from pathlib import Path\n",
    "import os\n",
    "\n",
    "base_path = \"/Users/gwonsmpro/Downloads/pillipse/class_merged_data_copy\"\n",
    "folder_list  = [d for d in os.listdir(base_path) if os.path.isdir(os.path.join(base_path, d)) and d != '.DS_Store']\n",
    "\n",
    "\n",
    "for folder in folder_list:\n",
    "    folder_path = base_path + \"/\" + folder\n",
    "    json_list = Path(folder_path).glob(\"*.json\")\n",
    "    # print(f\"{folder} = {len(list(json_list))}\")\n",
    "    \n",
    "    # JSON 파일 로드\n",
    "    for json_file in json_list:\n",
    "        with open(f'{str(json_file)}', 'r') as f:\n",
    "            data = json.load(f)\n",
    "\n",
    "        for shape in data['shapes']:\n",
    "            if shape['label'] == 'td':\n",
    "                shape['label'] = 'hb'\n",
    "            elif shape['label'] == 'mn' or shape['label'] == 'hn' or shape['label'] == 'gn':\n",
    "                shape['label'] = 'sn'\n",
    "            elif shape['label'] == 'db' or shape['label'] == 'tb' or shape['label'] == 'zh' or shape['label'] == 'sc2' or shape['label'] == 'sc3':\n",
    "                shape['label'] = 'sc'\n",
    "            elif shape['label'] == 'embo' or shape['label'] == 'embox':\n",
    "                shape['label'] = 'ab'\n",
    "            elif shape['label'] == \"test\":\n",
    "                shape['label'] = 'ul'\n",
    "\n",
    "        # 결과를 새 JSON 파일에 저장\n",
    "        with open(f'{str(json_file)}', 'w') as f:\n",
    "            json.dump(data, f, indent=4)\n",
    "\n",
    "\n"
   ]
  },
  {
   "cell_type": "code",
   "execution_count": 2,
   "metadata": {},
   "outputs": [],
   "source": [
    "import os\n",
    "import shutil\n",
    "\n",
    "# 정의된 경로\n",
    "base_path = \"/Users/gwonsmpro/Downloads/pillipse/class_merged_data_test_merged\"\n",
    "dest_path_image = \"/Users/gwonsmpro/Downloads/pillipse/path_to_image\"\n",
    "dest_path_label = \"/Users/gwonsmpro/Downloads/pillipse/path_to_label\"\n",
    "\n",
    "# 이미지와 라벨을 저장할 경로가 존재하지 않으면 생성합니다.\n",
    "os.makedirs(dest_path_image, exist_ok=True)\n",
    "os.makedirs(dest_path_label, exist_ok=True)\n",
    "\n",
    "# base_path에서 모든 디렉토리를 순회하면서 파일을 복사합니다.\n",
    "for dirpath, dirnames, filenames in os.walk(base_path):\n",
    "    for filename in filenames:\n",
    "        if filename.endswith('.png'):\n",
    "            # 이미지 파일은 dest_path_image에 복사합니다.\n",
    "            shutil.copy2(os.path.join(dirpath, filename), dest_path_image)\n",
    "        elif filename.endswith('.json'):\n",
    "            # 텍스트 파일은 dest_path_label에 복사합니다.\n",
    "            shutil.copy2(os.path.join(dirpath, filename), dest_path_label)\n"
   ]
  }
 ],
 "metadata": {
  "kernelspec": {
   "display_name": "base",
   "language": "python",
   "name": "python3"
  },
  "language_info": {
   "codemirror_mode": {
    "name": "ipython",
    "version": 3
   },
   "file_extension": ".py",
   "mimetype": "text/x-python",
   "name": "python",
   "nbconvert_exporter": "python",
   "pygments_lexer": "ipython3",
   "version": "3.9.16"
  },
  "orig_nbformat": 4
 },
 "nbformat": 4,
 "nbformat_minor": 2
}
