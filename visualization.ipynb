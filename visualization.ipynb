{
 "cells": [
  {
   "cell_type": "code",
   "execution_count": null,
   "metadata": {},
   "outputs": [],
   "source": []
  },
  {
   "cell_type": "markdown",
   "metadata": {},
   "source": [
    "# Core-Set"
   ]
  },
  {
   "cell_type": "code",
   "execution_count": null,
   "metadata": {},
   "outputs": [],
   "source": [
    "first =[45.78, 44.66, 47.42, 43.27, 46.7]\n",
    "second = [53.16, 53.0, 58.49, 55.0, 55.57]\n",
    "third = [57.8, 58.02, 63.36, 62.74]\n",
    "fourth = [65.31, 65.19, 67.5, 71.32]\n",
    "fifth = [72.03, 73.1, 74.5, 72.97]\n"
   ]
  },
  {
   "cell_type": "code",
   "execution_count": null,
   "metadata": {},
   "outputs": [],
   "source": [
    "first_mean = sum(first) / 5\n",
    "second_mean = sum(second) / 5\n",
    "third_mean = sum(third) / 4\n",
    "fourth_mean = sum(fourth) / 4\n",
    "fifth_mean = sum(fifth) / 4"
   ]
  },
  {
   "cell_type": "code",
   "execution_count": null,
   "metadata": {},
   "outputs": [],
   "source": [
    "import matplotlib.pyplot as plt\n",
    "\n",
    "plt.plot([\"1K\",\"2K\",\"3K\",\"4K\",\"5K\"], [first_mean,second_mean,third_mean, fourth_mean, fifth_mean])\n",
    "plt.xlabel('number of Data (K)')\n",
    "plt.ylabel('Accuracy')\n",
    "plt.show()"
   ]
  },
  {
   "cell_type": "markdown",
   "metadata": {},
   "source": [
    "# Learning Loss"
   ]
  },
  {
   "cell_type": "code",
   "execution_count": null,
   "metadata": {},
   "outputs": [],
   "source": [
    "first_f1 = [[0.5020, 0.3265, 0.2425], [0.6170, 0.5261, 0.4990], [0.6665, 0.6912,0.6024], [0.7140, 0.7527,0.7039], [0.7754, 0.7607,0.7547]]\n",
    "first_acc = [[0.5403, 0.3612,0.3313 ], [0.6418, 0.5582, 0.5164], [0.6776, 0.6985,0.6090], [0.7194, 0.7552,0.6985], [0.7701, 0.7672,0.7582]]\n",
    "\n",
    "import matplotlib.pyplot as plt\n",
    "\n",
    "lst = [\"100\",\"200\",\"300\",\"400\",\"500\"]\n",
    "plt.plot(lst, [sum(first_f1[i])/3 for i in range(5)], label = 'F1_Score')\n",
    "plt.plot(lst,  [sum(first_acc[i])/3 for i in range(5)],label = 'Acc')\n",
    "plt.xlabel('number of Data')\n",
    "plt.ylabel('Accuracy')\n",
    "plt.title(\"Data | hz : 240 / bz : 240 / chem : 216 / yd : 124\")\n",
    "plt.legend()\n",
    "plt.show()"
   ]
  },
  {
   "cell_type": "markdown",
   "metadata": {},
   "source": [
    "# Classification"
   ]
  },
  {
   "cell_type": "code",
   "execution_count": null,
   "metadata": {},
   "outputs": [],
   "source": [
    "first_f1 = [[0.5021],[0.5548],[],[],[]]\n",
    "first_acc = [[0.5403],[0.5701],[],[],[]]\n",
    "\n",
    "import matplotlib.pyplot as plt\n",
    "\n",
    "lst = [\"100\",\"200\",\"300\",\"400\",\"500\"]\n",
    "plt.plot(lst, [sum(first_f1[i]) for i in range(5)], label = 'F1_Score')\n",
    "plt.plot(lst,  [sum(first_acc[i]) for i in range(5)],label = 'Acc')\n",
    "plt.xlabel('number of Data')\n",
    "plt.ylabel('Accuracy')\n",
    "plt.title(\"Data | hz : 240 / bz : 240 / chem : 216 / yd : 124\")\n",
    "plt.legend()\n",
    "plt.show()"
   ]
  },
  {
   "cell_type": "code",
   "execution_count": 2,
   "metadata": {},
   "outputs": [
    {
     "name": "stderr",
     "output_type": "stream",
     "text": [
      "/Users/ibyeong-gwon/opt/anaconda3/lib/python3.9/site-packages/torchvision/models/_utils.py:208: UserWarning: The parameter 'pretrained' is deprecated since 0.13 and will be removed in 0.15, please use 'weights' instead.\n",
      "  warnings.warn(\n",
      "/Users/ibyeong-gwon/opt/anaconda3/lib/python3.9/site-packages/torchvision/models/_utils.py:223: UserWarning: Arguments other than a weight enum or `None` for 'weights' are deprecated since 0.13 and will be removed in 0.15. The current behavior is equivalent to passing `weights=ResNet18_Weights.IMAGENET1K_V1`. You can also use `weights=ResNet18_Weights.DEFAULT` to get the most up-to-date weights.\n",
      "  warnings.warn(msg)\n"
     ]
    },
    {
     "ename": "RuntimeError",
     "evalue": "output with shape [512] doesn't match the broadcast shape [1, 512, 1, 512]",
     "output_type": "error",
     "traceback": [
      "\u001b[0;31m---------------------------------------------------------------------------\u001b[0m",
      "\u001b[0;31mRuntimeError\u001b[0m                              Traceback (most recent call last)",
      "\u001b[1;32m/Users/ibyeong-gwon/Desktop/Git/Utils/visualization.ipynb 셀 10\u001b[0m in \u001b[0;36m<cell line: 43>\u001b[0;34m()\u001b[0m\n\u001b[1;32m     <a href='vscode-notebook-cell:/Users/ibyeong-gwon/Desktop/Git/Utils/visualization.ipynb#X12sZmlsZQ%3D%3D?line=39'>40</a>\u001b[0m     \u001b[39mreturn\u001b[39;00m my_embedding\u001b[39m.\u001b[39mnumpy()\n\u001b[1;32m     <a href='vscode-notebook-cell:/Users/ibyeong-gwon/Desktop/Git/Utils/visualization.ipynb#X12sZmlsZQ%3D%3D?line=41'>42</a>\u001b[0m img \u001b[39m=\u001b[39m \u001b[39m\"\u001b[39m\u001b[39m/Users/ibyeong-gwon/Desktop/fst/data/bz/raw_image/211201-AT6T31EH-M229_inpaint_1 ADR_W0.9_H1.3_BS.jpg\u001b[39m\u001b[39m\"\u001b[39m\n\u001b[0;32m---> <a href='vscode-notebook-cell:/Users/ibyeong-gwon/Desktop/Git/Utils/visualization.ipynb#X12sZmlsZQ%3D%3D?line=42'>43</a>\u001b[0m get_vector(img)\n",
      "\u001b[1;32m/Users/ibyeong-gwon/Desktop/Git/Utils/visualization.ipynb 셀 10\u001b[0m in \u001b[0;36mget_vector\u001b[0;34m(image_name)\u001b[0m\n\u001b[1;32m     <a href='vscode-notebook-cell:/Users/ibyeong-gwon/Desktop/Git/Utils/visualization.ipynb#X12sZmlsZQ%3D%3D?line=33'>34</a>\u001b[0m h \u001b[39m=\u001b[39m layer\u001b[39m.\u001b[39mregister_forward_hook(copy_data)\n\u001b[1;32m     <a href='vscode-notebook-cell:/Users/ibyeong-gwon/Desktop/Git/Utils/visualization.ipynb#X12sZmlsZQ%3D%3D?line=34'>35</a>\u001b[0m \u001b[39m# 6. Run the model on our transformed image\u001b[39;00m\n\u001b[0;32m---> <a href='vscode-notebook-cell:/Users/ibyeong-gwon/Desktop/Git/Utils/visualization.ipynb#X12sZmlsZQ%3D%3D?line=35'>36</a>\u001b[0m model(t_img)\n\u001b[1;32m     <a href='vscode-notebook-cell:/Users/ibyeong-gwon/Desktop/Git/Utils/visualization.ipynb#X12sZmlsZQ%3D%3D?line=36'>37</a>\u001b[0m \u001b[39m# 7. Detach our copy function from the layer\u001b[39;00m\n\u001b[1;32m     <a href='vscode-notebook-cell:/Users/ibyeong-gwon/Desktop/Git/Utils/visualization.ipynb#X12sZmlsZQ%3D%3D?line=37'>38</a>\u001b[0m h\u001b[39m.\u001b[39mremove()\n",
      "File \u001b[0;32m~/opt/anaconda3/lib/python3.9/site-packages/torch/nn/modules/module.py:1130\u001b[0m, in \u001b[0;36mModule._call_impl\u001b[0;34m(self, *input, **kwargs)\u001b[0m\n\u001b[1;32m   1126\u001b[0m \u001b[39m# If we don't have any hooks, we want to skip the rest of the logic in\u001b[39;00m\n\u001b[1;32m   1127\u001b[0m \u001b[39m# this function, and just call forward.\u001b[39;00m\n\u001b[1;32m   1128\u001b[0m \u001b[39mif\u001b[39;00m \u001b[39mnot\u001b[39;00m (\u001b[39mself\u001b[39m\u001b[39m.\u001b[39m_backward_hooks \u001b[39mor\u001b[39;00m \u001b[39mself\u001b[39m\u001b[39m.\u001b[39m_forward_hooks \u001b[39mor\u001b[39;00m \u001b[39mself\u001b[39m\u001b[39m.\u001b[39m_forward_pre_hooks \u001b[39mor\u001b[39;00m _global_backward_hooks\n\u001b[1;32m   1129\u001b[0m         \u001b[39mor\u001b[39;00m _global_forward_hooks \u001b[39mor\u001b[39;00m _global_forward_pre_hooks):\n\u001b[0;32m-> 1130\u001b[0m     \u001b[39mreturn\u001b[39;00m forward_call(\u001b[39m*\u001b[39;49m\u001b[39minput\u001b[39;49m, \u001b[39m*\u001b[39;49m\u001b[39m*\u001b[39;49mkwargs)\n\u001b[1;32m   1131\u001b[0m \u001b[39m# Do not call functions when jit is used\u001b[39;00m\n\u001b[1;32m   1132\u001b[0m full_backward_hooks, non_full_backward_hooks \u001b[39m=\u001b[39m [], []\n",
      "File \u001b[0;32m~/opt/anaconda3/lib/python3.9/site-packages/torchvision/models/resnet.py:285\u001b[0m, in \u001b[0;36mResNet.forward\u001b[0;34m(self, x)\u001b[0m\n\u001b[1;32m    284\u001b[0m \u001b[39mdef\u001b[39;00m \u001b[39mforward\u001b[39m(\u001b[39mself\u001b[39m, x: Tensor) \u001b[39m-\u001b[39m\u001b[39m>\u001b[39m Tensor:\n\u001b[0;32m--> 285\u001b[0m     \u001b[39mreturn\u001b[39;00m \u001b[39mself\u001b[39;49m\u001b[39m.\u001b[39;49m_forward_impl(x)\n",
      "File \u001b[0;32m~/opt/anaconda3/lib/python3.9/site-packages/torchvision/models/resnet.py:278\u001b[0m, in \u001b[0;36mResNet._forward_impl\u001b[0;34m(self, x)\u001b[0m\n\u001b[1;32m    275\u001b[0m x \u001b[39m=\u001b[39m \u001b[39mself\u001b[39m\u001b[39m.\u001b[39mlayer3(x)\n\u001b[1;32m    276\u001b[0m x \u001b[39m=\u001b[39m \u001b[39mself\u001b[39m\u001b[39m.\u001b[39mlayer4(x)\n\u001b[0;32m--> 278\u001b[0m x \u001b[39m=\u001b[39m \u001b[39mself\u001b[39;49m\u001b[39m.\u001b[39;49mavgpool(x)\n\u001b[1;32m    279\u001b[0m x \u001b[39m=\u001b[39m torch\u001b[39m.\u001b[39mflatten(x, \u001b[39m1\u001b[39m)\n\u001b[1;32m    280\u001b[0m x \u001b[39m=\u001b[39m \u001b[39mself\u001b[39m\u001b[39m.\u001b[39mfc(x)\n",
      "File \u001b[0;32m~/opt/anaconda3/lib/python3.9/site-packages/torch/nn/modules/module.py:1151\u001b[0m, in \u001b[0;36mModule._call_impl\u001b[0;34m(self, *input, **kwargs)\u001b[0m\n\u001b[1;32m   1149\u001b[0m \u001b[39mif\u001b[39;00m _global_forward_hooks \u001b[39mor\u001b[39;00m \u001b[39mself\u001b[39m\u001b[39m.\u001b[39m_forward_hooks:\n\u001b[1;32m   1150\u001b[0m     \u001b[39mfor\u001b[39;00m hook \u001b[39min\u001b[39;00m (\u001b[39m*\u001b[39m_global_forward_hooks\u001b[39m.\u001b[39mvalues(), \u001b[39m*\u001b[39m\u001b[39mself\u001b[39m\u001b[39m.\u001b[39m_forward_hooks\u001b[39m.\u001b[39mvalues()):\n\u001b[0;32m-> 1151\u001b[0m         hook_result \u001b[39m=\u001b[39m hook(\u001b[39mself\u001b[39;49m, \u001b[39minput\u001b[39;49m, result)\n\u001b[1;32m   1152\u001b[0m         \u001b[39mif\u001b[39;00m hook_result \u001b[39mis\u001b[39;00m \u001b[39mnot\u001b[39;00m \u001b[39mNone\u001b[39;00m:\n\u001b[1;32m   1153\u001b[0m             result \u001b[39m=\u001b[39m hook_result\n",
      "\u001b[1;32m/Users/ibyeong-gwon/Desktop/Git/Utils/visualization.ipynb 셀 10\u001b[0m in \u001b[0;36mget_vector.<locals>.copy_data\u001b[0;34m(m, i, o)\u001b[0m\n\u001b[1;32m     <a href='vscode-notebook-cell:/Users/ibyeong-gwon/Desktop/Git/Utils/visualization.ipynb#X12sZmlsZQ%3D%3D?line=30'>31</a>\u001b[0m \u001b[39mdef\u001b[39;00m \u001b[39mcopy_data\u001b[39m(m, i, o):\n\u001b[0;32m---> <a href='vscode-notebook-cell:/Users/ibyeong-gwon/Desktop/Git/Utils/visualization.ipynb#X12sZmlsZQ%3D%3D?line=31'>32</a>\u001b[0m     my_embedding\u001b[39m.\u001b[39;49mcopy_(o\u001b[39m.\u001b[39;49mdata)\n",
      "\u001b[0;31mRuntimeError\u001b[0m: output with shape [512] doesn't match the broadcast shape [1, 512, 1, 512]"
     ]
    }
   ],
   "source": [
    "import torch\n",
    "import torch.nn as nn\n",
    "import torchvision.models as models\n",
    "import torchvision.transforms as transforms\n",
    "from torch.autograd import Variable\n",
    "from PIL import Image\n",
    "\n",
    "# Load the pretrained model\n",
    "model = models.resnet18(pretrained=True)\n",
    "\n",
    "# Use the model object to select the desired layer\n",
    "layer = model._modules.get('avgpool')\n",
    "\n",
    "# Set model to evaluation mode\n",
    "model.eval()\n",
    "\n",
    "# Image transforms\n",
    "scaler = transforms.Resize((224, 224))\n",
    "normalize = transforms.Normalize(mean=[0.485, 0.456, 0.406], std=[0.229, 0.224, 0.225])\n",
    "to_tensor = transforms.ToTensor()\n",
    "\n",
    "def get_vector(image_name):\n",
    "    # 1. Load the image with Pillow library\n",
    "    img = Image.open(image_name)\n",
    "    # 2. Create a PyTorch Variable with the transformed image\n",
    "    t_img = Variable(normalize(to_tensor(scaler(img))).unsqueeze(0))\n",
    "    # 3. Create a vector of zeros that will hold our feature vector\n",
    "    #    The 'avgpool' layer has an output size of 512\n",
    "    my_embedding = torch.zeros(512)\n",
    "    # 4. Define a function that will copy the output of a layer\n",
    "    def copy_data(m, i, o):\n",
    "        my_embedding.copy_(o.data)\n",
    "    # 5. Attach that function to our selected layer\n",
    "    h = layer.register_forward_hook(copy_data)\n",
    "    # 6. Run the model on our transformed image\n",
    "    model(t_img)\n",
    "    # 7. Detach our copy function from the layer\n",
    "    h.remove()\n",
    "    # 8. Return the feature vector\n",
    "    return my_embedding.numpy()\n",
    "\n",
    "img = \"/Users/ibyeong-gwon/Desktop/fst/data/bz/raw_image/211201-AT6T31EH-M229_inpaint_1 ADR_W0.9_H1.3_BS.jpg\"\n",
    "print(get_vector(img))"
   ]
  },
  {
   "cell_type": "code",
   "execution_count": null,
   "metadata": {},
   "outputs": [],
   "source": []
  }
 ],
 "metadata": {
  "kernelspec": {
   "display_name": "Python 3.9.12 ('base')",
   "language": "python",
   "name": "python3"
  },
  "language_info": {
   "codemirror_mode": {
    "name": "ipython",
    "version": 3
   },
   "file_extension": ".py",
   "mimetype": "text/x-python",
   "name": "python",
   "nbconvert_exporter": "python",
   "pygments_lexer": "ipython3",
   "version": "3.9.12"
  },
  "orig_nbformat": 4,
  "vscode": {
   "interpreter": {
    "hash": "39523b5506b09c1341afcde84115bb5b8a9de94ca361b7e653f8ee467cc4d43c"
   }
  }
 },
 "nbformat": 4,
 "nbformat_minor": 2
}
