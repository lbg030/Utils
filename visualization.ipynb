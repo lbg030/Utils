{
 "cells": [
  {
   "cell_type": "code",
   "execution_count": null,
   "metadata": {},
   "outputs": [],
   "source": [
    "acc = [[0.6865671641791045, 0.5970149253731343, 0.5462686567164179, 0.6522388059701493, 0.6776119402985075], [0.5776119402985075, 0.5985074626865672, 0.664179104477612, 0.6537313432835821, 0.6761194029850747], [0.6492537313432836, 0.5850746268656717, 0.6492537313432836, 0.6432835820895523, 0.655223880597015]]\n",
    "f1 = [[0.6169628177589553, 0.6143053817539049, 0.5555784684500198, 0.6476016676056315, 0.6733192460622528], [0.5900521283551136, 0.5965711893178628, 0.6616015433276281, 0.6488599763881628, 0.6732263908906783], [0.6147278327994058, 0.5912966637700539, 0.6522335604548478, 0.644807282959351, 0.6635152767164947]]"
   ]
  },
  {
   "cell_type": "code",
   "execution_count": null,
   "metadata": {},
   "outputs": [],
   "source": [
    "mean_f1 = [0,0,0,0,0]\n",
    "mean_acc = [0,0,0,0,0]\n",
    "\n",
    "for j in range(5):\n",
    "    f1_score = 0\n",
    "    acc_score = 0\n",
    "    for i in range(3):\n",
    "        f1_score += f1[i][j]\n",
    "        acc_score += acc[i][j]\n",
    "    \n",
    "    mean_f1[j] = f1_score / 3\n",
    "    mean_acc[j] = acc_score / 3\n",
    "    \n",
    "print(mean_f1)\n",
    "print(mean_acc)"
   ]
  },
  {
   "cell_type": "code",
   "execution_count": null,
   "metadata": {},
   "outputs": [],
   "source": [
    "import matplotlib.pyplot as plt\n",
    "\n",
    "# 1/5\n",
    "# accuracy : 0.5851\n",
    "# f1 score : 0.5141\n",
    "# precision : 0.4840\n",
    "# recall : 0.5851\n",
    "\n",
    "# 2/5\n",
    "# accuracy : 0.6134\n",
    "# f1 score : 0.5298\n",
    "# precision : 0.4665\n",
    "# recall : 0.6134\n",
    "\n",
    "\n",
    "\n",
    "label = [200,400,600,800,1000]\n",
    "f1 = [0.5227, 0.6647,0.6971, 0.7179, 0.7453]\n",
    "acc = [0.6045, 0.6672, 0.6821, 0.7239, 0.7522]\n",
    "title_font = {\n",
    "    'fontsize': 13,\n",
    "    'fontweight': 'bold'\n",
    "}\n",
    "\n",
    "\n",
    "plt.plot(label,f1, label='f1_score')\n",
    "plt.plot(label, acc, label = 'acc')\n",
    "\n",
    "plt.xlabel(\"Number of labels\")\n",
    "plt.ylabel(\"Score\")\n",
    "\n",
    "plt.title('hz : 1732 bz : 448 yd : 169 chem : 330', fontdict=title_font)\n",
    "\n",
    "plt.legend()\n",
    "plt.show()"
   ]
  },
  {
   "cell_type": "code",
   "execution_count": null,
   "metadata": {},
   "outputs": [],
   "source": []
  }
 ],
 "metadata": {
  "kernelspec": {
   "display_name": "Python 3.9.12 ('base')",
   "language": "python",
   "name": "python3"
  },
  "language_info": {
   "codemirror_mode": {
    "name": "ipython",
    "version": 3
   },
   "file_extension": ".py",
   "mimetype": "text/x-python",
   "name": "python",
   "nbconvert_exporter": "python",
   "pygments_lexer": "ipython3",
   "version": "3.9.13"
  },
  "orig_nbformat": 4,
  "vscode": {
   "interpreter": {
    "hash": "39523b5506b09c1341afcde84115bb5b8a9de94ca361b7e653f8ee467cc4d43c"
   }
  }
 },
 "nbformat": 4,
 "nbformat_minor": 2
}
