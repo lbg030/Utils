{
 "cells": [
  {
   "cell_type": "code",
   "execution_count": null,
   "metadata": {},
   "outputs": [],
   "source": [
    "import cv2\n",
    "import numpy as np\n",
    "import matplotlib.pyplot as plt\n",
    "import os\n",
    "from pathlib import Path\n",
    "from tqdm.auto import tqdm\n",
    "\n",
    "base_path = \"/Users/gwonsmpro/Documents/GitHub/Utils/hc\"\n",
    "folder_list = sorted([o for o in os.listdir(base_path)])\n",
    "\n",
    "print(folder_list)\n",
    "for folder in tqdm(folder_list):\n",
    "    img_list = Path(f\"{base_path}/{folder}\").glob(\"*.png\")\n",
    "    for img_name in sorted(img_list):\n",
    "\n",
    "        img = cv2.imread(str(img_name), cv2.IMREAD_GRAYSCALE)\n",
    "        half_img1, half_img2 = img[:, :img.shape[1] // 2], img[:, img.shape[1] // 2:]\n",
    "        projection = np.sum(half_img1, axis=0, dtype=np.int64)\n",
    "        peak_v = np.diff(projection)\n",
    "        first_min = peak_v.argmin()\n",
    "        first_max = peak_v.argmax()\n",
    "        second_smallest_value = np.partition(peak_v.flatten(), 1)[1]\n",
    "        index_second_smallest = np.where(peak_v == second_smallest_value)\n",
    "        second_largest_value = np.partition(peak_v.flatten(), -2)[-2]\n",
    "        index_second_largest = np.where(peak_v == second_largest_value)\n",
    "\n",
    "\n",
    "        v_min = min(first_min, index_second_smallest[0][0], first_max, index_second_largest[0][0])\n",
    "\n",
    "        projection = np.sum(half_img2, axis=0, dtype=np.int64)\n",
    "        peak_v = np.diff(projection)\n",
    "        first_min = peak_v.argmin()\n",
    "        first_max = peak_v.argmax()\n",
    "        second_smallest_value = np.partition(peak_v.flatten(), 1)[1]\n",
    "        index_second_smallest = np.where(peak_v == second_smallest_value)\n",
    "        second_largest_value = np.partition(peak_v.flatten(), -2)[-2]\n",
    "        index_second_largest = np.where(peak_v == second_largest_value)\n",
    "\n",
    "        v_max = (img.shape[1] // 2) + max(first_min, index_second_largest[0][0], first_max, index_second_largest[0][0])\n",
    "\n",
    "        # peak_h\n",
    "        projection_h = np.sum(img, axis=1, dtype=np.int64)\n",
    "        peak_h = np.diff(projection_h)\n",
    "\n",
    "        # saved & visualization\n",
    "        img2 = img[:np.argmin(peak_h), v_min:v_max]\n",
    "        saved_name = f\"{str(img_name)[:-4]}_test.png\"\n",
    "        cv2.imwrite(saved_name, img2)"
   ]
  },
  {
   "cell_type": "code",
   "execution_count": null,
   "metadata": {},
   "outputs": [],
   "source": [
    "np.argmin(peak_h), index_second_smallest[0][0],first_max, first_min"
   ]
  },
  {
   "cell_type": "code",
   "execution_count": null,
   "metadata": {},
   "outputs": [],
   "source": [
    "import cv2\n",
    "import numpy as np\n",
    "import matplotlib.pyplot as plt\n",
    "import os\n",
    "from pathlib import Path\n",
    "from tqdm.auto import tqdm\n",
    "\n",
    "img_name = \"/Users/gwonsmpro/Documents/GitHub/Utils/hc/hc/Insp_180716_1.png\"\n",
    "img = cv2.imread(img_name, cv2.IMREAD_GRAYSCALE)\n",
    "\n",
    "half_img1, half_img2 = img[:, :img.shape[1] / 2], img[:, img.shape[2] / 2:]\n",
    "projection = np.sum(img, axis=0, dtype=np.int64)\n",
    "peak_v = np.diff(projection)\n",
    "\n",
    "first_min = peak_v.argmin()\n",
    "first_max = peak_v.argmax()\n",
    "\n",
    "second_smallest_value = np.partition(peak_v.flatten(), 1)[1]\n",
    "index_second_smallest = np.where(peak_v == second_smallest_value)\n",
    "second_largest_value = np.partition(peak_v.flatten(), -2)[-2]\n",
    "index_second_largest = np.where(peak_v == second_largest_value)\n",
    "\n",
    "\n",
    "projection_h = np.sum(img, axis=1, dtype=np.int64)\n",
    "peak_h = np.diff(projection_h)\n",
    "\n",
    "\n",
    "v_min, v_max = min(first_min, index_second_smallest[0][0], first_max, index_second_largest[0][0]), max(first_min, index_second_largest[0][0], first_max, index_second_largest[0][0])\n",
    "img2 = img[:np.argmin(peak_h), v_min:v_max]\n",
    "saved_name = f\"{img_name[:-4]}_test.png\"\n",
    "cv2.imwrite(saved_name, img2)\n",
    "\n",
    "plt.imshow(img)\n",
    "plt.show()\n",
    "\n",
    "plt.imshow(img2)\n",
    "plt.show()\n"
   ]
  },
  {
   "cell_type": "code",
   "execution_count": null,
   "metadata": {},
   "outputs": [],
   "source": [
    "v_min, v_max"
   ]
  },
  {
   "cell_type": "code",
   "execution_count": null,
   "metadata": {},
   "outputs": [],
   "source": [
    "plt.plot(projection)\n",
    "plt.xlabel('Column')\n",
    "plt.ylabel('Sum')\n",
    "plt.title('Projection')\n",
    "plt.show()\n"
   ]
  },
  {
   "cell_type": "code",
   "execution_count": null,
   "metadata": {},
   "outputs": [],
   "source": [
    "img.shape"
   ]
  },
  {
   "cell_type": "code",
   "execution_count": null,
   "metadata": {},
   "outputs": [],
   "source": [
    "half_img1, half_img2 = img[:, :img.shape[1] // 2], img[:, img.shape[1] // 2:]"
   ]
  },
  {
   "cell_type": "code",
   "execution_count": null,
   "metadata": {},
   "outputs": [],
   "source": [
    "import cv2\n",
    "import numpy as np\n",
    "import matplotlib.pyplot as plt\n",
    "import os\n",
    "from pathlib import Path\n",
    "from tqdm.auto import tqdm\n",
    "\n",
    "img_name = \"/Users/gwonsmpro/Documents/GitHub/Utils/hc/hc/Insp_180716_1.png\"\n",
    "img = cv2.imread(img_name, cv2.IMREAD_GRAYSCALE)\n",
    "\n",
    "half_img1, half_img2 = img[:, :img.shape[1] // 2], img[:, img.shape[1] // 2:]\n",
    "projection = np.sum(half_img1, axis=0, dtype=np.int64)\n",
    "peak_v = np.diff(projection)\n",
    "first_min = peak_v.argmin()\n",
    "first_max = peak_v.argmax()\n",
    "second_smallest_value = np.partition(peak_v.flatten(), 1)[1]\n",
    "index_second_smallest = np.where(peak_v == second_smallest_value)\n",
    "second_largest_value = np.partition(peak_v.flatten(), -2)[-2]\n",
    "index_second_largest = np.where(peak_v == second_largest_value)\n",
    "\n",
    "\n",
    "v_min = min(first_min, index_second_smallest[0][0], first_max, index_second_largest[0][0])\n",
    "\n",
    "projection = np.sum(half_img2, axis=0, dtype=np.int64)\n",
    "peak_v = np.diff(projection)\n",
    "first_min = peak_v.argmin()\n",
    "first_max = peak_v.argmax()\n",
    "second_smallest_value = np.partition(peak_v.flatten(), 1)[1]\n",
    "index_second_smallest = np.where(peak_v == second_smallest_value)\n",
    "second_largest_value = np.partition(peak_v.flatten(), -2)[-2]\n",
    "index_second_largest = np.where(peak_v == second_largest_value)\n",
    "\n",
    "v_max = (img.shape[1] // 2) + max(first_min, index_second_largest[0][0], first_max, index_second_largest[0][0])\n",
    "\n",
    "# peak_h\n",
    "projection_h = np.sum(img, axis=1, dtype=np.int64)\n",
    "peak_h = np.diff(projection_h)\n",
    "\n",
    "# saved & visualization\n",
    "img2 = img[:np.argmin(peak_h), v_min:v_max]\n",
    "saved_name = f\"{img_name[:-4]}_test.png\"\n",
    "\n",
    "\n",
    "cv2.imwrite(saved_name, img2)\n",
    "plt.imshow(img)\n",
    "plt.show()\n",
    "plt.imshow(img2)\n",
    "plt.show()\n"
   ]
  },
  {
   "cell_type": "code",
   "execution_count": null,
   "metadata": {},
   "outputs": [],
   "source": [
    "v_min, v_max"
   ]
  },
  {
   "cell_type": "code",
   "execution_count": null,
   "metadata": {},
   "outputs": [],
   "source": [
    "plt.plot(projection)\n",
    "plt.xlabel('Column')\n",
    "plt.ylabel('Sum')\n",
    "plt.title('Projection')\n",
    "plt.show()\n"
   ]
  }
 ],
 "metadata": {
  "kernelspec": {
   "display_name": "base",
   "language": "python",
   "name": "python3"
  },
  "language_info": {
   "codemirror_mode": {
    "name": "ipython",
    "version": 3
   },
   "file_extension": ".py",
   "mimetype": "text/x-python",
   "name": "python",
   "nbconvert_exporter": "python",
   "pygments_lexer": "ipython3",
   "version": "3.9.16"
  },
  "orig_nbformat": 4
 },
 "nbformat": 4,
 "nbformat_minor": 2
}
